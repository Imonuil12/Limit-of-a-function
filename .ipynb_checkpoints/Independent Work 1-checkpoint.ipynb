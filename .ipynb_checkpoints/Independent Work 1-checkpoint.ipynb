{
 "cells": [
  {
   "cell_type": "markdown",
   "metadata": {},
   "source": [
    "## Limit of a Function"
   ]
  },
  {
   "cell_type": "markdown",
   "metadata": {},
   "source": [
    "<p>In this independent work, you are going to analyze one of the indeterminate form \n",
    "$1^ \\infty $ </p>\n"
   ]
  },
  {
   "cell_type": "code",
   "execution_count": 17,
   "metadata": {},
   "outputs": [],
   "source": [
    "import sympy as sym\n",
    "import numpy as np\n",
    "import matplotlib.pyplot as plt\n",
    "%matplotlib inline\n",
    "from sympy.abc import x"
   ]
  },
  {
   "cell_type": "markdown",
   "metadata": {},
   "source": [
    "## Task 1:\n",
    "<p><ul>\n",
    "<li> Find a rational function $f(x)$ such that <br> $\\lim_{x \\to 0} f(x) = 0$ </li>\n",
    "<li> Show that the limit is 0 (by making a table of values) and using sympy.limit</li>\n",
    "<li> Draw the graph of the function in the interval $[-3,3]$ </li></ul></p>"
   ]
  },
  {
   "cell_type": "code",
   "execution_count": 22,
   "metadata": {},
   "outputs": [
    {
     "name": "stdout",
     "output_type": "stream",
     "text": [
      "Enter the function: x**2\n",
      "1.0\n",
      "0.81\n",
      "8.099999999999999e-05\n",
      "8.1e-07\n",
      "8.100000000000001e-09\n",
      "2.5000000000000004e-11\n",
      "0.0\n"
     ]
    },
    {
     "data": {
      "text/plain": [
       "[<matplotlib.lines.Line2D at 0x23567211de0>]"
      ]
     },
     "execution_count": 22,
     "metadata": {},
     "output_type": "execute_result"
    },
    {
     "data": {
      "image/png": "[encoded data removed]",
      "text/plain": [
       "<Figure size 432x288 with 1 Axes>"
      ]
     },
     "metadata": {
      "needs_background": "light"
     },
     "output_type": "display_data"
    }
   ],
   "source": [
    "function_input=sym.sympify(input('Enter the function: '))\n",
    "imonuil_func = sym.lambdify(x,function_input)\n",
    "left_side_vals = np.array([-1, -0.9, -0.009, -0.0009, -0.00009, -0.000005, 0])\n",
    "for value in left_side_vals:\n",
    "    print(imonuil_func(value))\n",
    "bounds = np.linspace(-3, 3, 150)\n",
    "plt.plot(bounds, imonuil_func(bounds), '+')\n",
    "plt.plot(bounds, imonuil_func(bounds), '+')"
   ]
  },
  {
   "cell_type": "markdown",
   "metadata": {},
   "source": [
    "## Task 2:\n",
    "<p><ul>\n",
    "<li> Find another rational function $g(x)$ such that <br> $\\lim_{x \\to 0^{+}} g(x) = \\infty$ </li>\n",
    "<li> Show that the limit is infinity (by making a table of values) and using sympy.limit</li>\n",
    "<li> Draw the graph of the function in the interval $[-3,3]$ </li></ul></p>"
   ]
  },
  {
   "cell_type": "code",
   "execution_count": null,
   "metadata": {},
   "outputs": [],
   "source": []
  },
  {
   "cell_type": "code",
   "execution_count": null,
   "metadata": {},
   "outputs": [],
   "source": []
  },
  {
   "cell_type": "markdown",
   "metadata": {},
   "source": [
    "## Task 3:\n",
    "<p>Now evaluate the limit (by making table of values and drawing the graph) and using sympy.limit<br> $\\lim_{x \\to 0^{+}} {(1+f(x))}^{g(x)}$</p>"
   ]
  },
  {
   "cell_type": "code",
   "execution_count": null,
   "metadata": {},
   "outputs": [],
   "source": []
  },
  {
   "cell_type": "markdown",
   "metadata": {},
   "source": [
    "## Task 4:\n",
    "<p>Evaluate the following expression (by making table of values) and using sympy.limit:<br> $e^{\\lim_{x \\to 0^{+}} {f(x) \\cdot g(x)}}$"
   ]
  },
  {
   "cell_type": "code",
   "execution_count": null,
   "metadata": {},
   "outputs": [],
   "source": []
  },
  {
   "cell_type": "markdown",
   "metadata": {},
   "source": [
    "## Task 5\n",
    "<p> What do you think? Are these two expressions in Task3 and Task 4 equal? Explain briefly.</p>"
   ]
  }
 ],
 "metadata": {
  "kernelspec": {
   "display_name": "Python 3 (ipykernel)",
   "language": "python",
   "name": "python3"
  },
  "language_info": {
   "codemirror_mode": {
    "name": "ipython",
    "version": 3
   },
   "file_extension": ".py",
   "mimetype": "text/x-python",
   "name": "python",
   "nbconvert_exporter": "python",
   "pygments_lexer": "ipython3",
   "version": "3.10.2"
  }
 },
 "nbformat": 4,
 "nbformat_minor": 4
}
