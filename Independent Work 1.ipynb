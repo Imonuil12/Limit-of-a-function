{
 "cells": [
  {
   "cell_type": "markdown",
   "metadata": {},
   "source": [
    "## Limit of a Function"
   ]
  },
  {
   "cell_type": "markdown",
   "metadata": {},
   "source": [
    "<p>In this independent work, you are going to analyze one of the indeterminate form \n",
    "$1^ \\infty $ </p>\n"
   ]
  },
  {
   "cell_type": "code",
   "execution_count": null,
   "metadata": {},
   "outputs": [],
   "source": [
    "import sympy as sym\n",
    "import numpy as np\n",
    "import matplotlib.pyplot as plt\n",
    "%matplotlib inline\n",
    "from sympy.abc import x"
   ]
  },
  {
   "cell_type": "markdown",
   "metadata": {},
   "source": [
    "## Task 1:\n",
    "<p><ul>\n",
    "<li> Find a rational function $f(x)$ such that <br> $\\lim_{x \\to 0} f(x) = 0$ </li>\n",
    "<li> Show that the limit is 0 (by making a table of values) and using sympy.limit</li>\n",
    "<li> Draw the graph of the function in the interval $[-3,3]$ </li></ul></p>"
   ]
  },
  {
   "cell_type": "code",
   "execution_count": null,
   "metadata": {},
   "outputs": [],
   "source": []
  },
  {
   "cell_type": "markdown",
   "metadata": {},
   "source": [
    "## Task 2:\n",
    "<p><ul>\n",
    "<li> Find another rational function $g(x)$ such that <br> $\\lim_{x \\to 0^{+}} g(x) = \\infty$ </li>\n",
    "<li> Show that the limit is infinity (by making a table of values) and using sympy.limit</li>\n",
    "<li> Draw the graph of the function in the interval $[-3,3]$ </li></ul></p>"
   ]
  },
  {
   "cell_type": "code",
   "execution_count": null,
   "metadata": {},
   "outputs": [],
   "source": []
  },
  {
   "cell_type": "markdown",
   "metadata": {},
   "source": [
    "## Task 3:\n",
    "<p>Now evaluate the limit (by making table of values and drawing the graph) and using sympy.limit<br> $\\lim_{x \\to 0^{+}} {(1+f(x))}^{g(x)}$</p>"
   ]
  },
  {
   "cell_type": "code",
   "execution_count": null,
   "metadata": {},
   "outputs": [],
   "source": []
  },
  {
   "cell_type": "markdown",
   "metadata": {},
   "source": [
    "## Task 4:\n",
    "<p>Evaluate the following expression (by making table of values) and using sympy.limit:<br> $e^{\\lim_{x \\to 0^{+}} {f(x) \\cdot g(x)}}$"
   ]
  },
  {
   "cell_type": "code",
   "execution_count": null,
   "metadata": {},
   "outputs": [],
   "source": []
  },
  {
   "cell_type": "markdown",
   "metadata": {},
   "source": [
    "## Task 5\n",
    "<p> What do you think? Are these two expressions in Task3 and Task 4 equal? Explain briefly.</p>"
   ]
  }
 ],
 "metadata": {
  "kernelspec": {
   "display_name": "Python 3 (ipykernel)",
   "language": "python",
   "name": "python3"
  },
  "language_info": {
   "codemirror_mode": {
    "name": "ipython",
    "version": 3
   },
   "file_extension": ".py",
   "mimetype": "text/x-python",
   "name": "python",
   "nbconvert_exporter": "python",
   "pygments_lexer": "ipython3",
   "version": "3.10.2"
  }
 },
 "nbformat": 4,
 "nbformat_minor": 4
}
